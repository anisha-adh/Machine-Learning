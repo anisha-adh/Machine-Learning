{
  "nbformat": 4,
  "nbformat_minor": 0,
  "metadata": {
    "colab": {
      "provenance": []
    },
    "kernelspec": {
      "name": "python3",
      "display_name": "Python 3"
    },
    "language_info": {
      "name": "python"
    }
  },
  "cells": [
    {
      "cell_type": "code",
      "execution_count": 1,
      "metadata": {
        "id": "Q5koczANlWHq"
      },
      "outputs": [],
      "source": [
        "# basic neural network implementation for AND gate\n",
        "w1=0.1\n",
        "w2 = 0.3\n",
        "b=0.09\n",
        "a = 2\n",
        "x = [(0,0), (0,1), (1,0), (1,1)]\n",
        "y = [0,0,0,1]"
      ]
    },
    {
      "cell_type": "code",
      "source": [
        "def step_fun(weighted_sum):\n",
        "  if weighted_sum>=0:\n",
        "    return 1\n",
        "  else:\n",
        "    return 0"
      ],
      "metadata": {
        "id": "p1zaeuD14EMW"
      },
      "execution_count": 2,
      "outputs": []
    },
    {
      "cell_type": "code",
      "source": [
        "\n",
        "y_hat= (w1*x[0][0] + w2*x[0][1] + b)\n",
        "error=y[0]-y_hat\n",
        "print(error)\n",
        "\n",
        "w1=w1 + a*error * x[0][0]\n",
        "w2= w2 + a*error * x[0][1]\n",
        "b= b+ a*error\n",
        "print(w1,w2,b)"
      ],
      "metadata": {
        "colab": {
          "base_uri": "https://localhost:8080/"
        },
        "id": "r-sneYlez69F",
        "outputId": "cadbbb11-4c0d-4781-ca09-feed813fb9af"
      },
      "execution_count": 8,
      "outputs": [
        {
          "output_type": "stream",
          "name": "stdout",
          "text": [
            "-0.09\n",
            "0.1 0.3 -0.09\n"
          ]
        }
      ]
    },
    {
      "cell_type": "code",
      "source": [
        "epochs = 10  #train garaako yeta\n",
        "for epoch in range(epochs):\n",
        "  for i in range(len(x)):\n",
        "    x1, x2 = x[i]\n",
        "    expected_output = y[i]\n",
        "    weighted_sum = (w1 * x1) + (w2 * x2) + b  #weighted_sum\n",
        "    predicted_output = step_fun(weighted_sum) #get predicted o/p\n",
        "    error = expected_output - predicted_output\n",
        "    w1 = w1 + a * error * x1\n",
        "    w2 = w2 + a * error * x2\n",
        "    b= b + a * error\n",
        "print(\"Trained weights and bias:\")\n",
        "print(f\"w1: {w1}, w2: {w2}, v: {b}\\n\")\n",
        "print(\"Testing AND Gate Perceptron\")\n",
        "\n",
        "for i in range(len(x)):\n",
        "  x1, x2 = x[i]\n",
        "  expected_output = y[i]\n",
        "  weighted_sum = (w1 * x1) + (w2 * x2) + b\n",
        "  predicted_output = step_fun(weighted_sum)\n",
        "  print(f\"Input: ({x1}, {x2}) -> Output: {predicted_output} (Expected: {expected_output})\")"
      ],
      "metadata": {
        "colab": {
          "base_uri": "https://localhost:8080/"
        },
        "id": "u_JCDjVW5H8T",
        "outputId": "411a98bd-0025-4fac-c30d-eaa4c9ba8b52"
      },
      "execution_count": 4,
      "outputs": [
        {
          "output_type": "stream",
          "name": "stdout",
          "text": [
            "Trained weights and bias:\n",
            "w1: 4.1, w2: 2.3, v: -5.91\n",
            "\n",
            "Testing AND Gate Perceptron\n",
            "Input: (0, 0) -> Output: 0 (Expected: 0)\n",
            "Input: (0, 1) -> Output: 0 (Expected: 0)\n",
            "Input: (1, 0) -> Output: 0 (Expected: 0)\n",
            "Input: (1, 1) -> Output: 1 (Expected: 1)\n"
          ]
        }
      ]
    },
    {
      "cell_type": "code",
      "source": [
        "# prompt: # basic neural network implementation for AND gate\n",
        "\n",
        "import numpy as np\n",
        "\n",
        "# sigmoid function\n",
        "def sigmoid(x):\n",
        "  return 1 / (1 + np.exp(-x))\n",
        "\n",
        "# derivative of sigmoid function\n",
        "def sigmoid_derivative(x):\n",
        "  return x * (1 - x)\n",
        "\n",
        "# input dataset\n",
        "inputs = np.array([[0, 0], [0, 1], [1, 0], [1, 1]])\n",
        "\n",
        "# output dataset\n",
        "outputs = np.array([[0], [0], [0], [1]])\n",
        "\n",
        "# initialize weights and bias with random values\n",
        "weights = np.random.rand(2, 1)\n",
        "bias = np.random.rand(1)\n",
        "learning_rate = 0.1\n",
        "\n",
        "# training the neural network\n",
        "for _ in range(10000):\n",
        "  # forward propagation\n",
        "  inputs_with_bias = np.c_[inputs, np.ones(inputs.shape[0])] # Add bias to inputs\n",
        "  z = np.dot(inputs_with_bias, np.concatenate((weights,bias))) # Calculate weighted sum including bias\n",
        "  predicted_outputs = sigmoid(z)\n",
        "\n",
        "  # calculate the error\n",
        "  error = outputs - predicted_outputs\n",
        "\n",
        "  # backpropagation\n",
        "  adjustments = error * sigmoid_derivative(predicted_outputs)\n",
        "  weights += learning_rate * np.dot(inputs.T, adjustments)\n",
        "  bias += learning_rate * np.sum(adjustments) # Adjust the bias separately\n",
        "\n",
        "\n",
        "# testing the neural network\n",
        "test_inputs = np.array([[0, 0], [0, 1], [1, 0], [1, 1]])\n",
        "\n",
        "test_inputs_with_bias = np.c_[test_inputs, np.ones(test_inputs.shape[0])] # Add bias\n",
        "z = np.dot(test_inputs_with_bias, np.concatenate((weights,bias))) # Calculate weighted sum including bias\n",
        "predicted_outputs = sigmoid(z)\n",
        "print(predicted_outputs) # predicted outputs for the AND gate\n"
      ],
      "metadata": {
        "id": "zJtL4a5SzxlY"
      },
      "execution_count": null,
      "outputs": []
    }
  ]
}