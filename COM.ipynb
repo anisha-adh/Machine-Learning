{
  "nbformat": 4,
  "nbformat_minor": 0,
  "metadata": {
    "colab": {
      "provenance": [],
      "authorship_tag": "ABX9TyNLnYRojdrUFtUvEqFQLQsB",
      "include_colab_link": true
    },
    "kernelspec": {
      "name": "python3",
      "display_name": "Python 3"
    },
    "language_info": {
      "name": "python"
    }
  },
  "cells": [
    {
      "cell_type": "markdown",
      "metadata": {
        "id": "view-in-github",
        "colab_type": "text"
      },
      "source": [
        "<a href=\"https://colab.research.google.com/github/anisha-adh/Machine-Learning/blob/main/COM.ipynb\" target=\"_parent\"><img src=\"https://colab.research.google.com/assets/colab-badge.svg\" alt=\"Open In Colab\"/></a>"
      ]
    },
    {
      "cell_type": "markdown",
      "source": [
        "# Finding Center of Mass\n",
        "## Outline\n",
        "###Background\n",
        "* a\n",
        "* b\n",
        "* **C**\n",
        "### Input\n",
        "### Dataset\n",
        "### Formula of COM Calculation\n",
        "\n",
        "$$ \\text{COM_x} = \\frac{\\sum{M_i * x_i}}{\\sum{M_i}}  $$\n",
        "$$\n",
        "### Expected Output\n"
      ],
      "metadata": {
        "id": "Xk6C9NZWoL6d"
      }
    },
    {
      "cell_type": "code",
      "execution_count": null,
      "metadata": {
        "id": "-qNO4GHzoLcn"
      },
      "outputs": [],
      "source": []
    }
  ]
}